{
  "nbformat": 4,
  "nbformat_minor": 0,
  "metadata": {
    "colab": {
      "provenance": [],
      "include_colab_link": true
    },
    "kernelspec": {
      "name": "python3",
      "display_name": "Python 3"
    },
    "language_info": {
      "name": "python"
    }
  },
  "cells": [
    {
      "cell_type": "markdown",
      "metadata": {
        "id": "view-in-github",
        "colab_type": "text"
      },
      "source": [
        "<a href=\"https://colab.research.google.com/github/REPANAJYOTHIPRAKASH629/Campusx_Data_Science_Session_Answers/blob/main/session_2_task.ipynb\" target=\"_parent\"><img src=\"https://colab.research.google.com/assets/colab-badge.svg\" alt=\"Open In Colab\"/></a>"
      ]
    },
    {
      "cell_type": "markdown",
      "source": [
        "### `Problem 1`: Write a program that will give you in hand monthly salary after deduction on CTC - HRA(10%), DA(5%), PF(3%) and taxes deduction as below:\n",
        "\n",
        "> Salary(Lakhs) : Tax(%)\n",
        "\n",
        "*   Below 5 : 0%\n",
        "*   5-10 : 10%\n",
        "*   10-20 : 20%\n",
        "*   aboove 20 : 30%"
      ],
      "metadata": {
        "id": "w6RlOAXV2PWh"
      }
    },
    {
      "cell_type": "code",
      "source": [
        "# Write code here\n",
        "ctc = int(input(\"enter your salary\"))\n",
        "hra = ctc-0.1*ctc\n",
        "da = hra-0.05*hra\n",
        "pf = da-0.03*da\n",
        "if ctc <=5:\n",
        "  print(pf)\n",
        "elif ctc>5 and ctc<=10:\n",
        "  newctc = pf-0.1*pf\n",
        "  print(newctc)\n",
        "elif ctc>10 and ctc<=20:\n",
        "  newctc = pf - 0.2 * pf\n",
        "  print(newctc)\n",
        "else:\n",
        "  if ctc>20:\n",
        "    newctc = pf - 0.3 * pf\n",
        "    print(newctc)"
      ],
      "metadata": {
        "id": "7tMHvKYO2etI",
        "outputId": "d94e6aeb-fb36-416d-a38c-88c973264047",
        "colab": {
          "base_uri": "https://localhost:8080/"
        }
      },
      "execution_count": 1,
      "outputs": [
        {
          "output_type": "stream",
          "name": "stdout",
          "text": [
            "enter your salary700000\n",
            "406381.5\n"
          ]
        }
      ]
    },
    {
      "cell_type": "markdown",
      "source": [
        "### `Problem 2`: Write a program that take a user input of three angles and will find out whether it can form a triangle or not."
      ],
      "metadata": {
        "id": "tYzCGqwl2hfN"
      }
    },
    {
      "cell_type": "code",
      "source": [
        "# Write code here\n",
        "a = int(input(\"Enter angle of a : \"))\n",
        "b = int(input(\"Enter angle of b : \"))\n",
        "c = int(input(\"Enter angle of c : \"))\n",
        "triangle = a+b+c\n",
        "if triangle == 180:\n",
        "    print('We can form a trinagle using ',a,',',b,'and ',c)\n",
        "else:\n",
        "    print('We cannot form a trinagle using ',a,' , ',b,'and ',c)"
      ],
      "metadata": {
        "id": "FYEqln-I2kxV",
        "outputId": "774cbaaa-a47b-44de-b050-f3965ca90e05",
        "colab": {
          "base_uri": "https://localhost:8080/"
        }
      },
      "execution_count": 2,
      "outputs": [
        {
          "output_type": "stream",
          "name": "stdout",
          "text": [
            "Enter angle of a : 90\n",
            "Enter angle of b : 46\n",
            "Enter angle of c : 44\n",
            "We can form a trinagle using  90 , 46 and  44\n"
          ]
        }
      ]
    },
    {
      "cell_type": "markdown",
      "source": [
        "### `Problem 3`: Write a program that will take user input of cost price and selling price and determines whether its a loss or a profit."
      ],
      "metadata": {
        "id": "5vEpPh8C2pE4"
      }
    },
    {
      "cell_type": "code",
      "source": [
        "# Write code here\n",
        "costp = float(input(\"Enter cost price of the product : \"))\n",
        "sellp = float(input(\"Enter selling price of the product : \"))\n",
        "if sellp > costp:\n",
        "    print('we are getting profit of : ',sellp-costp)\n",
        "else:\n",
        "    print('we are loosing the cost of : ',costp-sellp)"
      ],
      "metadata": {
        "id": "jDwBXlkO2sfl",
        "outputId": "e25dcc56-3281-4cf2-c649-2166d02cc2a2",
        "colab": {
          "base_uri": "https://localhost:8080/"
        }
      },
      "execution_count": 3,
      "outputs": [
        {
          "output_type": "stream",
          "name": "stdout",
          "text": [
            "Enter cost price of the product : 25.34\n",
            "Enter selling price of the product : 30\n",
            "we are getting profit of :  4.66\n"
          ]
        }
      ]
    },
    {
      "cell_type": "markdown",
      "source": [
        "### `Problem 4`: Write a menu-driven program - \n",
        "1. cm to ft \n",
        "2. km to miles \n",
        "3. USD to INR \n",
        "4. exit"
      ],
      "metadata": {
        "id": "J_FG_cJW2ugT"
      }
    },
    {
      "cell_type": "code",
      "source": [
        "# Write code here\n",
        "a = float(input(\"enter your values to exchange cm/km/USD : \"))\n",
        "print('''1. cm to ft\n",
        "2. km to miles\n",
        "3. USD to INR\n",
        "4. exit''')\n",
        "op = int(input(\"enter your option : \"))\n",
        "\n",
        "if op == 1 :\n",
        "    a = a/30.48\n",
        "    print(a)\n",
        "elif op == 2:\n",
        "    a = a/1.609344\n",
        "    print(a)\n",
        "elif op == 3:\n",
        "    a = 82.2163*a\n",
        "    print(a)\n",
        "else:\n",
        "    print('Exit')"
      ],
      "metadata": {
        "id": "yBHhaCGQ2zpD",
        "outputId": "6d5caebc-e646-4422-b4e3-b6a7fb6bf342",
        "colab": {
          "base_uri": "https://localhost:8080/"
        }
      },
      "execution_count": 4,
      "outputs": [
        {
          "output_type": "stream",
          "name": "stdout",
          "text": [
            "enter your values to exchange cm/km/USD : 12\n",
            "1. cm to ft\n",
            "2. km to miles\n",
            "3. USD to INR\n",
            "4. exit\n",
            "enter your option : 3\n",
            "986.5956000000001\n"
          ]
        }
      ]
    },
    {
      "cell_type": "markdown",
      "source": [
        "### `Problem 5` - Exercise 12: Display Fibonacci series up to 10 terms.\n",
        "\n",
        "*Note: The Fibonacci Sequence is a series of numbers. The next number is found by adding up the two numbers before it. The first two numbers are 0 and 1. For example, 0, 1, 1, 2, 3, 5, 8, 13, 21. The next number in this series above is 13+21 = 34*"
      ],
      "metadata": {
        "id": "LJJ30_Yw27ZU"
      }
    },
    {
      "cell_type": "code",
      "source": [
        "# Write code here\n",
        "num = int(input(\"enter how much series you want : \"))\n",
        "fb = [0,1]\n",
        "if num > 2:\n",
        "    for i in range(2,num):\n",
        "        nt = fb[i-1]+fb[i-2]\n",
        "        fb.append(nt)\n",
        "print(fb)"
      ],
      "metadata": {
        "id": "ae_1rpe52-5R",
        "outputId": "9671d26a-3919-47ab-878d-3464233f7cc0",
        "colab": {
          "base_uri": "https://localhost:8080/"
        }
      },
      "execution_count": 6,
      "outputs": [
        {
          "output_type": "stream",
          "name": "stdout",
          "text": [
            "enter how much series you want : 10\n",
            "[0, 1, 1, 2, 3, 5, 8, 13, 21, 34]\n"
          ]
        }
      ]
    },
    {
      "cell_type": "markdown",
      "source": [
        "### `Problem 6` - Find the factorial of a given number.\n",
        "\n",
        "Write a program to use the loop to find the factorial of a given number.\n",
        "\n",
        "The factorial (symbol: `!`) means to multiply all whole numbers from the chosen number down to 1.\n",
        "\n",
        "For example: calculate the factorial of 5\n",
        "\n",
        "```bash\n",
        "5! = 5 × 4 × 3 × 2 × 1 = 120\n",
        "```\n",
        "\n",
        "Output: \n",
        "\n",
        "```bash\n",
        "120\n",
        "```"
      ],
      "metadata": {
        "id": "pk_I_S4m3PT5"
      }
    },
    {
      "cell_type": "code",
      "source": [
        "# Write code here\n",
        "num = int(input(\"Enter the number : \"))\n",
        "fact = 1\n",
        "for i in range(1,num+1):\n",
        "    fact = fact *i\n",
        "print(fact)"
      ],
      "metadata": {
        "id": "lzXxHegx3Rkc",
        "outputId": "c1371873-37a7-4781-b992-1ab74d2ec7a3",
        "colab": {
          "base_uri": "https://localhost:8080/"
        }
      },
      "execution_count": 7,
      "outputs": [
        {
          "output_type": "stream",
          "name": "stdout",
          "text": [
            "Enter the number : 5\n",
            "120\n"
          ]
        }
      ]
    },
    {
      "cell_type": "markdown",
      "source": [
        "### `Problem 7` - Reverse a given integer number.\n",
        "\n",
        "Example:\n",
        "\n",
        "`Input:`\n",
        "\n",
        "```bash\n",
        "76542\n",
        "```\n",
        "\n",
        "`Output:`\n",
        "\n",
        "```bash\n",
        "24567\n",
        "```"
      ],
      "metadata": {
        "id": "-17IOi-g3UpU"
      }
    },
    {
      "cell_type": "code",
      "source": [
        "# Write code here\n",
        "number = input(\"Enter your number : \")\n",
        "print(int(number[::-1]))"
      ],
      "metadata": {
        "id": "wJwLpKCr3aVA",
        "outputId": "edcad58e-a277-47fc-defb-f1ff75c6fe52",
        "colab": {
          "base_uri": "https://localhost:8080/"
        }
      },
      "execution_count": 8,
      "outputs": [
        {
          "output_type": "stream",
          "name": "stdout",
          "text": [
            "Enter your number : 76542\n",
            "24567\n"
          ]
        }
      ]
    },
    {
      "cell_type": "markdown",
      "source": [
        "### `Problem 8`: Take a user input as integer N. Find out the sum from 1 to N. If any number if divisible by 5, then skip that number. And if the sum is greater than 300, don't need to calculate the sum further more. Print the final result. And don't use for loop to solve this problem.\n",
        "\n",
        "**Example 1:**\n",
        "\n",
        "`Input:`\n",
        "\n",
        "```bash\n",
        "30\n",
        "```\n",
        "\n",
        "`Output:`\n",
        "\n",
        "```bash\n",
        "276\n",
        "```"
      ],
      "metadata": {
        "id": "-t8PJQaY3sHf"
      }
    },
    {
      "cell_type": "code",
      "source": [
        "# Write code here"
      ],
      "metadata": {
        "id": "GZB6mGMP3ujT"
      },
      "execution_count": null,
      "outputs": []
    },
    {
      "cell_type": "markdown",
      "source": [
        "### `Problem 9`: Write a program that keeps on accepting a number from the user until the user enters Zero. Display the sum and average of all the numbers."
      ],
      "metadata": {
        "id": "Q7ggImeA3xm4"
      }
    },
    {
      "cell_type": "code",
      "source": [
        "# Write code here\n",
        "sum = 0\n",
        "count = 0\n",
        "while True:\n",
        "    num = int(input(\"Enter a number : \"))\n",
        "    if num == 0:\n",
        "        break\n",
        "    sum += num\n",
        "    count += 1\n",
        "if count == 0:\n",
        "    print(\"No numbers entered.\")\n",
        "else:\n",
        "    average = sum / count\n",
        "    print(\"Sum:\", sum)\n",
        "    print(\"Average:\", average)"
      ],
      "metadata": {
        "id": "t_YDSZDe4Kdo",
        "outputId": "bf5cb2d8-6dda-440d-c07f-868c6fca4e9f",
        "colab": {
          "base_uri": "https://localhost:8080/"
        }
      },
      "execution_count": 15,
      "outputs": [
        {
          "output_type": "stream",
          "name": "stdout",
          "text": [
            "Enter a number : 5\n",
            "Enter a number : 23\n",
            "Enter a number : 23\n",
            "Enter a number : 345\n",
            "Enter a number : 54\n",
            "Enter a number : 45\n",
            "Enter a number : 12\n",
            "Enter a number : 09\n",
            "Enter a number : 0\n",
            "Sum: 516\n",
            "Average: 64.5\n"
          ]
        }
      ]
    },
    {
      "cell_type": "markdown",
      "source": [
        "###`Problem 9`: Write a program which will find all such numbers which are divisible by 7 but are not a multiple of 5, between 2000 and 3200 (both included). The numbers obtained should be printed in a comma-separated sequence on a single line."
      ],
      "metadata": {
        "id": "6EhvEMvm4R7s"
      }
    },
    {
      "cell_type": "code",
      "source": [
        "# Write code here\n",
        "result = []\n",
        "for i in range(2000, 3201):\n",
        "    if i % 7 == 0 and i % 5 != 0:\n",
        "        result.append(str(i))\n",
        "print(\",\".join(result))"
      ],
      "metadata": {
        "id": "d6RgP1B34T6c",
        "outputId": "b033a3c8-184c-43a5-9759-65f3c5922ee2",
        "colab": {
          "base_uri": "https://localhost:8080/"
        }
      },
      "execution_count": 16,
      "outputs": [
        {
          "output_type": "stream",
          "name": "stdout",
          "text": [
            "2002,2009,2016,2023,2037,2044,2051,2058,2072,2079,2086,2093,2107,2114,2121,2128,2142,2149,2156,2163,2177,2184,2191,2198,2212,2219,2226,2233,2247,2254,2261,2268,2282,2289,2296,2303,2317,2324,2331,2338,2352,2359,2366,2373,2387,2394,2401,2408,2422,2429,2436,2443,2457,2464,2471,2478,2492,2499,2506,2513,2527,2534,2541,2548,2562,2569,2576,2583,2597,2604,2611,2618,2632,2639,2646,2653,2667,2674,2681,2688,2702,2709,2716,2723,2737,2744,2751,2758,2772,2779,2786,2793,2807,2814,2821,2828,2842,2849,2856,2863,2877,2884,2891,2898,2912,2919,2926,2933,2947,2954,2961,2968,2982,2989,2996,3003,3017,3024,3031,3038,3052,3059,3066,3073,3087,3094,3101,3108,3122,3129,3136,3143,3157,3164,3171,3178,3192,3199\n"
          ]
        }
      ]
    },
    {
      "cell_type": "markdown",
      "source": [
        "###`Problem 10`: Write a program, which will find all such numbers between 1000 and 3000 (both included) such that each digit of the number is an even number. The numbers obtained should be printed in a space-separated sequence on a single line.\n",
        "\n"
      ],
      "metadata": {
        "id": "tYvmRR-G4Vp4"
      }
    },
    {
      "cell_type": "code",
      "source": [
        "# Write code here\n",
        "result = []\n",
        "for i in range(1000, 3001):\n",
        "    if all(int(digit) % 2 == 0 for digit in str(i)):\n",
        "        result.append(str(i))\n",
        "print(\" \".join(result))"
      ],
      "metadata": {
        "id": "k6Gs1kIf4k19",
        "outputId": "31f78d78-738d-4b67-f152-50654f7c6c28",
        "colab": {
          "base_uri": "https://localhost:8080/"
        }
      },
      "execution_count": 17,
      "outputs": [
        {
          "output_type": "stream",
          "name": "stdout",
          "text": [
            "2000 2002 2004 2006 2008 2020 2022 2024 2026 2028 2040 2042 2044 2046 2048 2060 2062 2064 2066 2068 2080 2082 2084 2086 2088 2200 2202 2204 2206 2208 2220 2222 2224 2226 2228 2240 2242 2244 2246 2248 2260 2262 2264 2266 2268 2280 2282 2284 2286 2288 2400 2402 2404 2406 2408 2420 2422 2424 2426 2428 2440 2442 2444 2446 2448 2460 2462 2464 2466 2468 2480 2482 2484 2486 2488 2600 2602 2604 2606 2608 2620 2622 2624 2626 2628 2640 2642 2644 2646 2648 2660 2662 2664 2666 2668 2680 2682 2684 2686 2688 2800 2802 2804 2806 2808 2820 2822 2824 2826 2828 2840 2842 2844 2846 2848 2860 2862 2864 2866 2868 2880 2882 2884 2886 2888\n"
          ]
        }
      ]
    },
    {
      "cell_type": "markdown",
      "source": [
        "###`Problem 11`: A robot moves in a plane starting from the original point (0,0). The robot can move toward UP, DOWN, LEFT and RIGHT with a given steps. \n",
        "The trace of robot movement is shown as the following:\n",
        "```\n",
        "UP 5\n",
        "DOWN 3\n",
        "LEFT 3\n",
        "RIGHT 2\n",
        "!\n",
        "```\n",
        "> The numbers after the direction are steps. \n",
        "\n",
        "> `!` means robot stop there.\n",
        "\n",
        "**Please write a program to compute the distance from current position after a sequence of movement and original point.** \n",
        "\n",
        "*If the distance is a float, then just print the nearest integer.*\n",
        "\n",
        "Example:\n",
        "\n",
        "`Input`:\n",
        "```\n",
        "UP 5\n",
        "DOWN 3\n",
        "LEFT 3\n",
        "RIGHT 2\n",
        "!\n",
        "```\n",
        "`Output`:\n",
        "```\n",
        "2\n",
        "```"
      ],
      "metadata": {
        "id": "GV18IINT4mf5"
      }
    },
    {
      "cell_type": "code",
      "source": [
        "# Write code here\n",
        "import math\n",
        "\n",
        "# initialize the coordinates of the robot\n",
        "x, y = 0, 0\n",
        "\n",
        "while True:\n",
        "    # read the direction and steps of the next movement\n",
        "    movement = input().split()\n",
        "    if movement[0] == '!':\n",
        "        break\n",
        "    direction, steps = movement[0], int(movement[1])\n",
        "\n",
        "    # update the coordinates based on the direction and steps\n",
        "    if direction == 'UP':\n",
        "        y += steps\n",
        "    elif direction == 'DOWN':\n",
        "        y -= steps\n",
        "    elif direction == 'LEFT':\n",
        "        x -= steps\n",
        "    elif direction == 'RIGHT':\n",
        "        x += steps\n",
        "\n",
        "# compute the distance from the current position to the origin\n",
        "distance = round(math.sqrt(x**2 + y**2))\n",
        "\n",
        "print(distance)"
      ],
      "metadata": {
        "id": "6UNMC2aR4w5x",
        "outputId": "2474e745-a3ed-487d-bd89-8ab27027c7c9",
        "colab": {
          "base_uri": "https://localhost:8080/"
        }
      },
      "execution_count": 18,
      "outputs": [
        {
          "output_type": "stream",
          "name": "stdout",
          "text": [
            "UP 5\n",
            "DOWN 3\n",
            "LEFT 3\n",
            "RIGHT 2\n",
            "!\n",
            "2\n"
          ]
        }
      ]
    },
    {
      "cell_type": "markdown",
      "source": [
        "###`Problem 12`:Write a program to print whether a given number is a prime number or not"
      ],
      "metadata": {
        "id": "3fsAIAhK5GYY"
      }
    },
    {
      "cell_type": "code",
      "source": [
        "# Write code here\n",
        "n = int(input(\"Enter a number: \"))\n",
        "if n < 2:\n",
        "    print(n, \"is not a prime number\")\n",
        "else:\n",
        "    for i in range(2, int(n**0.5) + 1):\n",
        "        if n % i == 0:\n",
        "            print(n, \"is not a prime number\")\n",
        "            break\n",
        "    else:\n",
        "        print(n, \"is a prime number\")"
      ],
      "metadata": {
        "id": "j6y91lxy5LZs",
        "outputId": "fcb5f37d-9353-459f-c7e6-aa2519276892",
        "colab": {
          "base_uri": "https://localhost:8080/"
        }
      },
      "execution_count": 19,
      "outputs": [
        {
          "output_type": "stream",
          "name": "stdout",
          "text": [
            "Enter a number: 3\n",
            "3 is a prime number\n"
          ]
        }
      ]
    },
    {
      "cell_type": "markdown",
      "source": [
        "###`Problem 13`:Print all the Armstrong numbers in a given range.\n",
        "Range will be provided by the user<br>\n",
        "Armstrong number is a number that is equal to the sum of cubes of its digits. For example 0, 1, 153, 370, 371 and 407 are the Armstrong numbers."
      ],
      "metadata": {
        "id": "asAbmbK-5NHv"
      }
    },
    {
      "cell_type": "code",
      "source": [
        "# Write code here\n",
        "start = int(input(\"Enter the starting number: \"))\n",
        "end = int(input(\"Enter the ending number: \"))\n",
        "\n",
        "# loop through the range of numbers\n",
        "for num in range(start, end + 1):\n",
        "  sum = 0\n",
        "  temp = num\n",
        "  while temp > 0:\n",
        "    digit = temp % 10\n",
        "    sum += digit ** 3\n",
        "    temp //= 10\n",
        "  if num == sum:\n",
        "    print(num)"
      ],
      "metadata": {
        "id": "PZuI67pm5jCT",
        "outputId": "0b5b3cbe-2dd6-4d4c-cbba-4c0ae7d33f97",
        "colab": {
          "base_uri": "https://localhost:8080/"
        }
      },
      "execution_count": 20,
      "outputs": [
        {
          "output_type": "stream",
          "name": "stdout",
          "text": [
            "Enter the starting number: 1\n",
            "Enter the ending number: 500\n",
            "1\n",
            "153\n",
            "370\n",
            "371\n",
            "407\n"
          ]
        }
      ]
    },
    {
      "cell_type": "markdown",
      "source": [
        "###`Problem 14`:Calculate the angle between the hour hand and minute hand.\n",
        "\n",
        "Note: There can be two angles between hands; we need to print a minimum of two. Also, we need to print the floor of the final result angle. For example, if the final angle is 10.61, we need to print 10.\n",
        "\n",
        "Input:<br>\n",
        "H = 9 , M = 0<br>\n",
        "Output:<br>\n",
        "90<br>\n",
        "Explanation:<br>\n",
        "The minimum angle between hour and minute\n",
        "hand when the time is 9 is 90 degress."
      ],
      "metadata": {
        "id": "ClCQZMqT7gK0"
      }
    },
    {
      "cell_type": "code",
      "source": [
        "# Write code here\n",
        "H = int(input(\"Enter the hour (1-12): \"))\n",
        "M = int(input(\"Enter the minute (0-59): \"))\n",
        "hour_angle = 0.5 * ((H % 12) * 60 + M)\n",
        "minute_angle = 6 * M\n",
        "angle_diff = abs(hour_angle - minute_angle)\n",
        "if angle_diff > 180:\n",
        "    angle_diff = 360 - angle_diff\n",
        "print(int(angle_diff))"
      ],
      "metadata": {
        "id": "tNBTCZML7jy_",
        "outputId": "42848a8c-70ec-4aa2-e5db-6d8517068b36",
        "colab": {
          "base_uri": "https://localhost:8080/"
        }
      },
      "execution_count": 21,
      "outputs": [
        {
          "output_type": "stream",
          "name": "stdout",
          "text": [
            "Enter the hour (1-12): 9\n",
            "Enter the minute (0-59): 0\n",
            "90\n"
          ]
        }
      ]
    },
    {
      "cell_type": "markdown",
      "source": [
        "###`Problem 15`:Given two rectangles, find if the given two rectangles overlap or not. A rectangle is denoted by providing the x and y coordinates of two points: the left top corner and the right bottom corner of the rectangle. Two rectangles sharing a side are considered overlapping. (L1 and R1 are the extreme points of the first rectangle and L2 and R2 are the extreme points of the second rectangle).\n",
        "\n",
        "Note: It may be assumed that the rectangles are parallel to the coordinate axis.\n",
        "\n",
        "<img src='https://www.geeksforgeeks.org/wp-content/uploads/rectanglesOverlap.png' width='300' height='200'>"
      ],
      "metadata": {
        "id": "GwacF9Co72Qc"
      }
    },
    {
      "cell_type": "code",
      "source": [
        "# Write code here\n",
        "\n",
        "# read the input values for rectangle 1\n",
        "print(\"Enter coordinates for Rectangle 1:\")\n",
        "L1_x = int(input(\"Left coordinate x: \"))\n",
        "L1_y = int(input(\"Left coordinate y: \"))\n",
        "R1_x = int(input(\"Right coordinate x: \"))\n",
        "R1_y = int(input(\"Right coordinate y: \"))\n",
        "\n",
        "# read the input values for rectangle 2\n",
        "print(\"Enter coordinates for Rectangle 2:\")\n",
        "L2_x = int(input(\"Left coordinate x: \"))\n",
        "L2_y = int(input(\"Left coordinate y: \"))\n",
        "R2_x = int(input(\"Right coordinate x: \"))\n",
        "R2_y = int(input(\"Right coordinate y: \"))\n",
        "\n",
        "# check if the rectangles overlap\n",
        "if L1_x > R2_x or L2_x > R1_x:\n",
        "    overlap = False\n",
        "elif L1_y < R2_y or L2_y < R1_y:\n",
        "    overlap = False\n",
        "else:\n",
        "    overlap = True\n",
        "# print the result\n",
        "if overlap:\n",
        "    print(\"The two rectangles overlap.\")\n",
        "else:\n",
        "    print(\"The two rectangles do not overlap.\")"
      ],
      "metadata": {
        "id": "6rrw_lpH78Rs",
        "outputId": "53722355-01b5-4453-e98f-91d38a4254d5",
        "colab": {
          "base_uri": "https://localhost:8080/"
        }
      },
      "execution_count": 24,
      "outputs": [
        {
          "output_type": "stream",
          "name": "stdout",
          "text": [
            "Enter coordinates for Rectangle 1:\n",
            "Left coordinate x: 12\n",
            "Left coordinate y: 45\n",
            "Right coordinate x: 12\n",
            "Right coordinate y: 45\n",
            "Enter coordinates for Rectangle 2:\n",
            "Left coordinate x: 12\n",
            "Left coordinate y: 23\n",
            "Right coordinate x: 32\n",
            "Right coordinate y: 23\n",
            "The two rectangles do not overlap.\n"
          ]
        }
      ]
    }
  ]
}